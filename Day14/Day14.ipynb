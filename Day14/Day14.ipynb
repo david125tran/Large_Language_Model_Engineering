{
  "nbformat": 4,
  "nbformat_minor": 0,
  "metadata": {
    "colab": {
      "provenance": [],
      "gpuType": "T4"
    },
    "kernelspec": {
      "name": "python3",
      "display_name": "Python 3"
    },
    "language_info": {
      "name": "python"
    },
    "accelerator": "GPU"
  },
  "cells": [
    {
      "cell_type": "markdown",
      "source": [
        "# 🔍 Exploring Transformer Models (Lower-Level API)\n",
        "\n",
        "This notebook dives into the **lower-level API of Transformers**, focusing on the underlying models that wrap PyTorch code to implement transformer architectures.\n",
        "\n",
        "> 💡 **Runtime Note:** This notebook is optimized to run on a **low-cost or free T4 runtime** (such as Google Colab's free tier).\n",
        "\n",
        "## 📦 Models Explored\n",
        "\n",
        "This notebook explores five cutting-edge transformer models from different organizations:\n",
        "\n",
        "- **LLaMA 3.1** by Meta  \n",
        "- **Phi-3** by Microsoft  \n",
        "- **Gemma** by Google  \n",
        "- **Mixtral** by Mistral  \n",
        "- **Qwen** by Alibaba Cloud  \n",
        "\n",
        "Each model is examined through its lower-level PyTorch-based implementation using the Hugging Face `transformers` library, offering insights into their structure and customization potential.\n"
      ],
      "metadata": {
        "id": "aKs1PM-O-VQa"
      }
    },
    {
      "cell_type": "markdown",
      "source": [
        "Important pro-tips for using Colab:\n",
        "\n",
        "**Pro-tip 1:**\n",
        "\n",
        "The top of every colab has some pip installs. You may receive errors from pip when you run this, such as:\n",
        "\n",
        "> gcsfs 2025.3.2 requires fsspec==2025.3.2, but you have fsspec 2025.3.0 which is incompatible.\n",
        "\n",
        "These pip compatibility errors can be safely ignored; and while it's tempting to try to fix them by changing version numbers, that will actually introduce real problems!\n",
        "\n",
        "**Pro-tip 2:**\n",
        "\n",
        "In the middle of running a Colab, you might get an error like this:\n",
        "\n",
        "> Runtime error: CUDA is required but not available for bitsandbytes. Please consider installing [...]\n",
        "\n",
        "This is a super-misleading error message! Please don't try changing versions of packages...\n",
        "\n",
        "This actually happens because Google has switched out your Colab runtime, perhaps because Google Colab was too busy. The solution is:\n",
        "\n",
        "1. Kernel menu >> Disconnect and delete runtime\n",
        "2. Reload the colab from fresh and Edit menu >> Clear All Outputs\n",
        "3. Connect to a new T4 using the button at the top right\n",
        "4. Select \"View resources\" from the menu on the top right to confirm you have a GPU\n",
        "5. Rerun the cells in the colab, from the top down, starting with the pip installs\n",
        "\n",
        "And all should work great - otherwise, ask me!"
      ],
      "metadata": {
        "id": "WTDQBZpH25QB"
      }
    },
    {
      "cell_type": "code",
      "source": [
        "# ------------------------------------ Packages ----------------------------------\n",
        "!pip install -q requests torch bitsandbytes transformers sentencepiece accelerate"
      ],
      "metadata": {
        "id": "NthhKJRwX1iS"
      },
      "execution_count": null,
      "outputs": []
    },
    {
      "cell_type": "code",
      "execution_count": null,
      "metadata": {
        "id": "C9zvDGWD5pKp"
      },
      "outputs": [],
      "source": [
        "# ------------------------------------ Imports ----------------------------------\n",
        "from google.colab import userdata\n",
        "from huggingface_hub import login\n",
        "from transformers import AutoTokenizer, AutoModelForCausalLM, TextStreamer, BitsAndBytesConfig\n",
        "import torch\n",
        "import gc"
      ]
    },
    {
      "cell_type": "markdown",
      "source": [
        "# Generate Hugging Face Token\n",
        "https://huggingface.co"
      ],
      "metadata": {
        "id": "xyKWKWSw7Iqp"
      }
    },
    {
      "cell_type": "code",
      "source": [
        "# ------------------------------------ Configure Hugging Face Token ----------------------------------\n",
        "# Retrieve stored API key from Colab's secure userdata store\n",
        "hf_token = userdata.get('HF_TOKEN')\n",
        "\n",
        "if hf_token:\n",
        "    print(f\"Hugging Face Token exists and begins {hf_token[:10]}\")\n",
        "else:\n",
        "  print(\"Hugging Face Token not set\")\n",
        "\n",
        "# ------------------------------------ Connect to Hugging Face ----------------------------------\n",
        "login(hf_token, add_to_git_credential=True)\n",
        "\n",
        "# Request Access to HuggingFace Model:\n",
        "# https://huggingface.co/black-forest-labs/FLUX.1-schnell"
      ],
      "metadata": {
        "id": "xd7cEDUC6Lkq"
      },
      "execution_count": null,
      "outputs": []
    },
    {
      "cell_type": "code",
      "source": [
        "# Initialize Model Variables\n",
        "\n",
        "LLAMA = \"meta-llama/Meta-Llama-3.1-8B-Instruct\"\n",
        "PHI3 = \"microsoft/Phi-3-mini-4k-instruct\"\n",
        "GEMMA2 = \"google/gemma-2-2b-it\"\n",
        "MIXTRAL = \"mistralai/Mixtral-8x7B-Instruct-v0.1\" # If this doesn't fit it your GPU memory, try others from the hub\n",
        "QWEN2 = \"Qwen/Qwen2-7B-Instruct\" # exercise for you\n"
      ],
      "metadata": {
        "id": "UtN7OKILQato"
      },
      "execution_count": null,
      "outputs": []
    },
    {
      "cell_type": "code",
      "source": [
        "messages = [\n",
        "    {\"role\": \"system\", \"content\": \"You are a helpful assistant\"},\n",
        "    {\"role\": \"user\", \"content\": \"Tell a light-hearted joke for a room of Data Scientists\"}\n",
        "  ]"
      ],
      "metadata": {
        "id": "KgxCLBJIT5Hx"
      },
      "execution_count": null,
      "outputs": []
    },
    {
      "cell_type": "markdown",
      "source": [
        "# Accessing Llama 3.1 from Meta\n",
        "\n",
        "In order to use the fantastic Llama 3.1, Meta does require you to sign their terms of service.\n",
        "\n",
        "Visit their model instructions page in Hugging Face:\n",
        "https://huggingface.co/meta-llama/Meta-Llama-3.1-8B"
      ],
      "metadata": {
        "id": "ZSiYqPn87msu"
      }
    },
    {
      "cell_type": "markdown",
      "source": [
        "Here's a Markdown explanation of the Python function that sets up a BitsAndBytesConfig for 4-bit quantization:\n",
        "\n",
        "## Explanation of `BitsAndBytesConfig` for 4-bit Quantization\n",
        "\n",
        "The following Python code configures 4-bit quantization using the `BitsAndBytesConfig` class, typically used with Hugging Face Transformers and the `bitsandbytes` library to reduce memory usage and improve inference speed:\n",
        "\n",
        "```python\n",
        "from transformers import BitsAndBytesConfig\n",
        "import torch\n",
        "\n",
        "quant_config = BitsAndBytesConfig(\n",
        "    load_in_4bit=True,\n",
        "    bnb_4bit_use_double_quant=True,\n",
        "    bnb_4bit_compute_dtype=torch.bfloat16,\n",
        "    bnb_4bit_quant_type=\"nf4\"\n",
        ")\n",
        "\n",
        "Parameter Breakdown\n",
        "\n",
        "    load_in_4bit=True\n",
        "    Enables loading the model in 4-bit precision, which drastically reduces memory usage and accelerates inference.\n",
        "\n",
        "    bnb_4bit_use_double_quant=True\n",
        "    Activates double quantization, which means that weights are first quantized to an intermediate quant level before being quantized again to 4-bit. This typically helps retain better model performance.\n",
        "\n",
        "    bnb_4bit_compute_dtype=torch.bfloat16\n",
        "    Sets the compute datatype for the quantized model. Using bfloat16 (Brain Float 16) enables faster computation on modern hardware with minimal loss in precision.\n",
        "\n",
        "    bnb_4bit_quant_type=\"nf4\"\n",
        "    Specifies the quantization scheme.\n",
        "\n",
        "        \"nf4\" stands for Normal Float 4, a quantization type developed for better range and accuracy compared to older 4-bit formats like fp4.\n",
        "\n",
        "Use Case\n",
        "\n",
        "This configuration is ideal for:\n",
        "\n",
        "    Running large language models on limited hardware (e.g., consumer GPUs).\n",
        "\n",
        "    Accelerating inference while maintaining reasonable accuracy.\n",
        "\n",
        "    Deployments where memory footprint is a concern.\n",
        "\n",
        "Note: This setup requires the bitsandbytes library and is often used with models from the Hugging Face Transformers ecosystem."
      ],
      "metadata": {
        "id": "qaX-epJc3_KN"
      }
    },
    {
      "cell_type": "code",
      "source": [
        "# ------------------------------------ Quantization ----------------------------------\n",
        "# Quantization Config - this allows us to load the model into memory and use less memory.\n",
        "# We do this by using less precision (replacing 32-bit numbers into 8-bit numbers).  This\n",
        "# is known as quantization and only makes it slightly less precise.\n",
        "\n",
        "quant_config = BitsAndBytesConfig(\n",
        "    load_in_4bit=True,\n",
        "    bnb_4bit_use_double_quant=True,\n",
        "    bnb_4bit_compute_dtype=torch.bfloat16,\n",
        "    bnb_4bit_quant_type=\"nf4\"\n",
        ")"
      ],
      "metadata": {
        "id": "hhOgL1p_T6-b"
      },
      "execution_count": null,
      "outputs": []
    },
    {
      "cell_type": "code",
      "source": [
        "# ------------------------------------ Tokenizer ----------------------------------\n",
        "# Load the tokenizer associated with the pretrained model.  LLAMA should be a string path (\"meta-llama/Meta-Llama-3.1-8B-Instruct\")\n",
        "tokenizer = AutoTokenizer.from_pretrained(LLAMA)\n",
        "\n",
        "# Sets the padding token to be the same as the end-of-sequence (EOS) token.\n",
        "# This is necessary for models that don’t have a separate padding token defined by default.\n",
        "# This prevents errors during batch processing or when padding sequences to equal length.\n",
        "tokenizer.pad_token = tokenizer.eos_token\n",
        "\n",
        "# Applies a chat-specific formatting template to the list of messages.\n",
        "#   *messages should be a list of dictionaries (e.g., {\"role\": \"user\", \"content\": \"Hello\"}).\n",
        "#   *Converts the messages into a single formatted string (list of tokens) as expected by chat-tuned models.\n",
        "#   *return_tensors=\"pt\" returns PyTorch tensors for model input.\n",
        "inputs = tokenizer.apply_chat_template(messages, return_tensors=\"pt\").to(\"cuda\")\n",
        "# .to(\"cuda\") - Moves the resulting tensor to the GPU for faster inference.\n"
      ],
      "metadata": {
        "id": "Zi8YXiwJHF59"
      },
      "execution_count": null,
      "outputs": []
    },
    {
      "cell_type": "code",
      "source": [
        "# ------------------------------------ The Model ----------------------------------\n",
        "# Load a pretrained LLaMA model (\"meta-llama/Meta-Llama-3.1-8B-Instruct\") for text generation\n",
        "#   *Loads using memory-efficient 4-bit quantization\n",
        "#   *device_map=\"auto\" - This automatically distributes the model across available devices\n",
        "#    (e.g., multiple GPUs or CPU + GPU), if your Colab notebook is configured to use GPU.\n",
        "#   *It takes tokens from the past to predict future tokens\n",
        "model = AutoModelForCausalLM.from_pretrained(LLAMA, device_map=\"auto\", quantization_config=quant_config)"
      ],
      "metadata": {
        "id": "S5jly421tno3"
      },
      "execution_count": null,
      "outputs": []
    },
    {
      "cell_type": "code",
      "source": [
        "# ------------------------------------ Memory Footprint ----------------------------------\n",
        "# This code measures and prints the model's memory usage in megabytes (MB).\n",
        "memory = model.get_memory_footprint() / 1e6\n",
        "print(f\"Memory footprint: {memory:,.1f} MB\")"
      ],
      "metadata": {
        "id": "bdbYaT8hWXWE"
      },
      "execution_count": null,
      "outputs": []
    },
    {
      "cell_type": "markdown",
      "source": [
        "**Output:**  \n",
        "Memory footprint: 5,591.5 MB\n"
      ],
      "metadata": {
        "id": "XgkNONVY92yV"
      }
    },
    {
      "cell_type": "markdown",
      "source": [
        "## Looking under the hood at the Transformer model\n",
        "\n",
        "The next cell prints the HuggingFace `model` object for Llama.\n",
        "\n",
        "This model object is a Neural Network, implemented with the Python framework PyTorch. The Neural Network uses the architecture invented by Google scientists in 2017: the Transformer architecture.\n",
        "\n",
        "While we're not going to go deep into the theory, this is an opportunity to get some intuition for what the Transformer actually is.\n",
        "\n",
        "If you're completely new to Neural Networks, check out my [YouTube intro playlist](https://www.youtube.com/playlist?list=PLWHe-9GP9SMMdl6SLaovUQF2abiLGbMjs) for the foundations.\n",
        "\n",
        "Now take a look at the layers of the Neural Network that get printed in the next cell. Look out for this:\n",
        "\n",
        "- It consists of layers\n",
        "- There's something called \"embedding\" - this takes tokens and turns them into 4,096 dimensional vectors. We'll learn more about this in Week 5.\n",
        "- There are then 32 sets of groups of layers called \"Decoder layers\". Each Decoder layer contains three types of layer: (a) self-attention layers (b) multi-layer perceptron (MLP) layers (c) batch norm layers.\n",
        "- There is an LM Head layer at the end; this produces the output\n",
        "\n",
        "Notice the mention that the model has been quantized to 4 bits.\n",
        "\n",
        "It's not required to go any deeper into the theory at this point, but if you'd like to, I've asked our mutual friend to take this printout and make a tutorial to walk through each layer. This also looks at the dimensions at each point. If you're interested, work through this tutorial after running the next cell:\n",
        "\n",
        "https://chatgpt.com/canvas/shared/680cbea6de688191a20f350a2293c76b"
      ],
      "metadata": {
        "id": "w5mcojpzrD_y"
      }
    },
    {
      "cell_type": "code",
      "source": [
        "# Execute this cell and look at what gets printed; investigate the layers\n",
        "\n",
        "model"
      ],
      "metadata": {
        "id": "P0qmAD5ZtqWA"
      },
      "execution_count": null,
      "outputs": []
    },
    {
      "cell_type": "markdown",
      "source": [
        "**Output:**  \n",
        "  \n",
        "LlamaForCausalLM(\n",
        "  (model): LlamaModel(\n",
        "    (embed_tokens): Embedding(128256, 4096)\n",
        "    (layers): ModuleList(\n",
        "      (0-31): 32 x LlamaDecoderLayer(\n",
        "        (self_attn): LlamaAttention(\n",
        "          (q_proj): Linear4bit(in_features=4096, out_features=4096, bias=False)\n",
        "          (k_proj): Linear4bit(in_features=4096, out_features=1024, bias=False)\n",
        "          (v_proj): Linear4bit(in_features=4096, out_features=1024, bias=False)\n",
        "          (o_proj): Linear4bit(in_features=4096, out_features=4096, bias=False)\n",
        "        )\n",
        "        (mlp): LlamaMLP(\n",
        "          (gate_proj): Linear4bit(in_features=4096, out_features=14336, bias=False)\n",
        "          (up_proj): Linear4bit(in_features=4096, out_features=14336, bias=False)\n",
        "          (down_proj): Linear4bit(in_features=14336, out_features=4096, bias=False)\n",
        "          (act_fn): SiLU()\n",
        "        )\n",
        "        (input_layernorm): LlamaRMSNorm((4096,), eps=1e-05)\n",
        "        (post_attention_layernorm): LlamaRMSNorm((4096,), eps=1e-05)\n",
        "      )\n",
        "    )\n",
        "    (norm): LlamaRMSNorm((4096,), eps=1e-05)\n",
        "    (rotary_emb): LlamaRotaryEmbedding()\n",
        "  )\n",
        "  (lm_head): Linear(in_features=4096, out_features=128256, bias=False)\n",
        ")"
      ],
      "metadata": {
        "id": "TA_7a8Jc9OyV"
      }
    },
    {
      "cell_type": "markdown",
      "source": [
        "### And if you want to go even deeper into Transformers\n",
        "\n",
        "In addition to looking at each of the layers in the model, you can actually look at the HuggingFace code that implements Llama using PyTorch.\n",
        "\n",
        "Here is the HuggingFace Transformers repo:  \n",
        "https://github.com/huggingface/transformers\n",
        "\n",
        "And within this, here is the code for Llama 4:  \n",
        "https://github.com/huggingface/transformers/blob/main/src/transformers/models/llama4/modeling_llama4.py\n",
        "\n",
        "Obviously it's not neceesary at all to get into this detail - the job of an AI engineer is to select, optimize, fine-tune and apply LLMs rather than to code a transformer in PyTorch. OpenAI, Meta and other frontier labs spent millions building and training these models. But it's a fascinating rabbit hole if you're interested!"
      ],
      "metadata": {
        "id": "Kx_0SygM_nmA"
      }
    },
    {
      "cell_type": "code",
      "source": [
        "# ------------------------------------ Run The Model ----------------------------------\n",
        "outputs = model.generate(inputs, max_new_tokens=80)\n",
        "print(tokenizer.decode(outputs[0]))"
      ],
      "metadata": {
        "id": "SkYEXzbotcud"
      },
      "execution_count": null,
      "outputs": []
    },
    {
      "cell_type": "markdown",
      "source": [
        "**Output:**\n",
        "\n",
        "The attention mask and the pad token id were not set. As a consequence, you may observe unexpected behavior. Please pass your input's `attention_mask` to obtain reliable results.\n",
        "Setting `pad_token_id` to `eos_token_id`:128001 for open-end generation.\n",
        "\n",
        "<|begin_of_text|><|start_header_id|>system<|end_header_id|>\n",
        "\n",
        "Cutting Knowledge Date: December 2023\n",
        "Today Date: 26 Jul 2024\n",
        "\n",
        "You are a helpful assistant<|eot_id|><|start_header_id|>user<|end_header_id|>\n",
        "\n",
        "Tell a light-hearted joke for a room of Data Scientists<|eot_id|><|start_header_id|>assistant<|end_header_id|>\n",
        "\n",
        "Why did the logistic regression model go to therapy?\n",
        "\n",
        "Because it was struggling to classify its emotions.<|eot_id|>\n"
      ],
      "metadata": {
        "id": "Y-2ribf980UG"
      }
    },
    {
      "cell_type": "code",
      "source": [
        "# ------------------------------------ Clean Up Memory ----------------------------------\n",
        "# Delete variables from the current Python namespace\n",
        "del model, inputs, tokenizer, outputs\n",
        "# Manually call garbage collector to clean up unreferenced memory\n",
        "gc.collect()\n",
        "# Tell PyTorch to release cached GPU memory that is no longer being used\n",
        "torch.cuda.empty_cache()"
      ],
      "metadata": {
        "id": "2oL0RWU2ttZf"
      },
      "execution_count": null,
      "outputs": []
    },
    {
      "cell_type": "markdown",
      "source": [
        "## A couple of quick notes on the next block of code:\n",
        "\n",
        "I'm using a HuggingFace utility called TextStreamer so that results stream back.\n",
        "To stream results, we simply replace:  \n",
        "`outputs = model.generate(inputs, max_new_tokens=80)`  \n",
        "With:  \n",
        "`streamer = TextStreamer(tokenizer)`  \n",
        "`outputs = model.generate(inputs, max_new_tokens=80, streamer=streamer)`\n",
        "\n",
        "Also I've added the argument `add_generation_prompt=True` to my call to create the Chat template. This ensures that Phi generates a response to the question, instead of just predicting how the user prompt continues. Try experimenting with setting this to False to see what happens. You can read about this argument here:\n",
        "\n",
        "https://huggingface.co/docs/transformers/main/en/chat_templating#what-are-generation-prompts\n",
        "\n",
        "Thank you to student Piotr B for raising the issue!"
      ],
      "metadata": {
        "id": "iDCeJ20e4Hxx"
      }
    },
    {
      "cell_type": "code",
      "source": [
        "# ------------------------------------ Wrap Everything Into a Function ----------------------------------\n",
        "def generate(model, messages):\n",
        "    # Load the tokenizer for the specified model\n",
        "    tokenizer = AutoTokenizer.from_pretrained(model)\n",
        "\n",
        "    # Set the tokenizer's padding token to be the same as the end-of-sequence token\n",
        "    # This avoids errors when padding sequences for generation\n",
        "    tokenizer.pad_token = tokenizer.eos_token\n",
        "\n",
        "    # Format the conversation messages using the chat template and convert to tensor on GPU\n",
        "    # 'add_generation_prompt=True' prepares the input for text generation continuation\n",
        "    inputs = tokenizer.apply_chat_template(\n",
        "        messages,\n",
        "        return_tensors=\"pt\",\n",
        "        add_generation_prompt=True\n",
        "    ).to(\"cuda\")\n",
        "\n",
        "    # Set up a streaming output handler for real-time token decoding (optional, useful for live output)\n",
        "    streamer = TextStreamer(tokenizer)\n",
        "\n",
        "    # Load the model onto the appropriate device (GPU/CPU) with quantization if specified\n",
        "    model = AutoModelForCausalLM.from_pretrained(\n",
        "        model,\n",
        "        device_map=\"auto\",\n",
        "        quantization_config=quant_config\n",
        "    )\n",
        "\n",
        "    # Generate up to 80 new tokens based on the input and stream them live\n",
        "    outputs = model.generate(inputs, max_new_tokens=80, streamer=streamer)\n",
        "\n",
        "    # Clean up: delete objects to free memory (especially GPU memory)\n",
        "    del model, inputs, tokenizer, outputs, streamer\n",
        "    gc.collect()                 # Run Python garbage collector\n",
        "    torch.cuda.empty_cache()    # Free unused GPU memory cache\n"
      ],
      "metadata": {
        "id": "RO_VYZ3DZ7cs"
      },
      "execution_count": null,
      "outputs": []
    },
    {
      "cell_type": "code",
      "source": [
        "# ------------------------------------ Call PHI 3 ----------------------------------\n",
        "generate(PHI3, messages)"
      ],
      "metadata": {
        "id": "RFjaY4Pdvbfy"
      },
      "execution_count": null,
      "outputs": []
    },
    {
      "cell_type": "markdown",
      "source": [
        "**Output:**  \n",
        "Loading checkpoint shards: 100%\n",
        " 2/2 [00:37<00:00, 17.80s/it]\n",
        "\n",
        "<|user|> Tell a light-hearted joke for a room of Data Scientists<|end|><|assistant|> Why did the data scientist break up with the algorithm?\n",
        "\n",
        "Because it was always calculating the wrong variables in their relationship!<|end|>\n"
      ],
      "metadata": {
        "id": "JVbVGYEh_c34"
      }
    },
    {
      "cell_type": "markdown",
      "source": [
        "## Accessing Gemma from Google\n",
        "Google requires you to accept their terms in HuggingFace before you use Gemma.\n",
        "\n",
        "Visit their model page at this link and confirm you're OK with their terms, so that you're granted access.\n",
        "\n",
        "https://huggingface.co/google/gemma-2-2b-it"
      ],
      "metadata": {
        "id": "hxZQmZDCe4Jf"
      }
    },
    {
      "cell_type": "code",
      "source": [
        "# ------------------------------------ Call GEMMA2 ----------------------------------\n",
        "messages = [\n",
        "    {\"role\": \"user\", \"content\": \"Tell a light-hearted joke for a room of Data Scientists\"}\n",
        "  ]\n",
        "generate(GEMMA2, messages)"
      ],
      "metadata": {
        "id": "q1JW41D-viGy"
      },
      "execution_count": null,
      "outputs": []
    },
    {
      "cell_type": "markdown",
      "source": [
        "**Output:**  \n",
        "<bos><start_of_turn>user  \n",
        "Tell a light-hearted joke for a room of Data Scientists<end_of_turn>  \n",
        "<start_of_turn>model  \n",
        "Why did the data scientist break up with the statistician?   \n",
        "  \n",
        "Because they had too many differences! 😂   \n",
        "  \n",
        "---\n",
        "  \n",
        "Let me know if you'd like to hear another joke! 😊   \n",
        "<end_of_turn>"
      ],
      "metadata": {
        "id": "yxp03u4H_7ys"
      }
    },
    {
      "cell_type": "markdown",
      "source": [
        "**Request Access to MIXTRAL:**  \n",
        "https://huggingface.co/mistralai/Mixtral-8x7B-Instruct-v0.1"
      ],
      "metadata": {
        "id": "-nwXHFP6AR1y"
      }
    },
    {
      "cell_type": "code",
      "source": [
        "# ------------------------------------ Call MIXTRAL ----------------------------------\n",
        "messages = [\n",
        "    {\"role\": \"user\", \"content\": \"Tell a light-hearted joke for a room of Data Scientists\"}\n",
        "  ]\n",
        "generate(MIXTRAL, messages)"
      ],
      "metadata": {
        "id": "oe45wwco_r30"
      },
      "execution_count": null,
      "outputs": []
    },
    {
      "cell_type": "markdown",
      "source": [
        "\n",
        "\n",
        "Request Access to QWEN2:\n",
        "https://huggingface.co/mistralai/Mixtral-8x7B-Instruct-v0.1\n"
      ],
      "metadata": {
        "id": "hygykmVEAWzx"
      }
    },
    {
      "cell_type": "code",
      "source": [
        "# ------------------------------------ Call QWEN2 ----------------------------------\n",
        "# Use 8-bit instead of 4-bit to free up GPU for the model\n",
        "quant_config = BitsAndBytesConfig(\n",
        "    load_in_8bit=True,\n",
        "    llm_int8_enable_fp32_cpu_offload=True\n",
        ")\n",
        "\n",
        "messages = [\n",
        "    {\"role\": \"user\", \"content\": \"Tell a light-hearted joke for a room of Data Scientists\"}\n",
        "  ]\n",
        "generate(QWEN2, messages)"
      ],
      "metadata": {
        "id": "0m8yjMB3ZTp3"
      },
      "execution_count": null,
      "outputs": []
    }
  ]
}