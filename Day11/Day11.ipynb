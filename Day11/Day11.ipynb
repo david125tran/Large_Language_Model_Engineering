{
  "nbformat": 4,
  "nbformat_minor": 0,
  "metadata": {
    "colab": {
      "provenance": [],
      "toc_visible": true,
      "gpuType": "T4"
    },
    "kernelspec": {
      "name": "python3",
      "display_name": "Python 3"
    },
    "language_info": {
      "name": "python"
    },
    "accelerator": "GPU"
  },
  "cells": [
    {
      "cell_type": "code",
      "execution_count": null,
      "metadata": {
        "id": "3aBteFOHoeX_"
      },
      "outputs": [],
      "source": [
        "# ------------------------------------ Imports ----------------------------------\n",
        "from diffusers import FluxPipeline\n",
        "from google.colab import userdata\n",
        "from huggingface_hub import login\n",
        "from IPython.display import display\n",
        "from PIL import Image\n",
        "import torch\n",
        "\n",
        "\n",
        "\n",
        "# ------------------------------------ Configure API Keys / Tokens ----------------------------------\n",
        "# Retrieve stored API keys from Colab's secure userdata store\n",
        "openai_api_key = userdata.get('OPENAI_API_KEY')\n",
        "anthropic_api_key = userdata.get('ANTHROPIC_API_KEY')\n",
        "google_api_key = userdata.get('GOOGLE_API_KEY')\n",
        "hf_token = userdata.get('HF_TOKEN')\n",
        "\n",
        "\n",
        "# ------------------------------------ Print if Configuration was Successful ----------------------------------\n",
        "print(\"API Keys:\")\n",
        "if openai_api_key:\n",
        "    print(f\"OpenAI API Key exists and begins {openai_api_key[:10]}\")\n",
        "else:\n",
        "    print(\"OpenAI API Key not set\")\n",
        "\n",
        "if anthropic_api_key:\n",
        "    print(f\"Anthropic API Key exists and begins {anthropic_api_key[:10]}\")\n",
        "else:\n",
        "    print(\"Anthropic API Key not set\")\n",
        "if google_api_key:\n",
        "    print(f\"Google API Key exists and begins {google_api_key[:10]}\")\n",
        "else:\n",
        "    print(\"Google API Key not set\")\n",
        "if hf_token:\n",
        "    print(f\"Hugging Face Token exists and begins {hf_token[:10]}\")\n",
        "else:\n",
        "  print(\"Hugging Face Token not set\")\n",
        "\n",
        "\n",
        "# ------------------------------------ Get GPU Info ----------------------------------\n",
        "# print(\"\\nGPU Info:\")\n",
        "# gpu_info = !nvidia-smi\n",
        "# gpu_info = '\\n'.join(gpu_info)\n",
        "# if gpu_info.find('failed') >= 0:\n",
        "#   print('Not connected to a GPU')\n",
        "# else:\n",
        "#   print(gpu_info)\n",
        "\n",
        "\n",
        "# ------------------------------------ Connect to Hugging Face ----------------------------------\n",
        "login(hf_token, add_to_git_credential=True)\n",
        "\n",
        "# Request Access to HuggingFace Model:\n",
        "# https://huggingface.co/black-forest-labs/FLUX.1-schnell\n",
        "\n",
        "# Change Google Colab runtime to, 'T4 GPU'\n",
        "\n",
        "# Load the Flux image generation pipeline from Hugging Face (a diffusion-based text-to-image generator).\n",
        "# Use float16 to reduce memory usage\n",
        "pipe = FluxPipeline.from_pretrained(\"black-forest-labs/FLUX.1-schnell\",\n",
        "                                    torch_dtype=torch.float16).to(\"cuda\")\n",
        "\n",
        "# Moves the model to GPU (cuda) for faster computation.\n",
        "generator = torch.Generator(device=\"cuda\").manual_seed(0)\n",
        "\n",
        "# Create Prompt & Generate Image\n",
        "# prompt = \"A futuristic class full of students learning AI coding in the surreal style of Salvador Dali\"\n",
        "\n",
        "prompt = \"\"\"\n",
        "Generate an image in a surrealist style featuring majestic tigers roaming a vast,\n",
        "ethereal landscape suspended high above a shimmering ocean of clouds. The ground\n",
        "beneath their paws is composed of fragmented glass and glowing moss, forming a\n",
        "tessellated path through a gravity-defying jungle of floating vines and fractured\n",
        "marble ruins. Towering, translucent trees grow upside-down from floating boulders,\n",
        "their roots dripping stardust. The tigers’ stripes shimmer with embedded galaxies,\n",
        "each step releasing bursts of light and cosmic particles. One tiger is seen leaping\n",
        "through a fractured mirror, emerging on the other side as a reflection of itself\n",
        "made of liquid silver. In the sky above, enormous jellyfish made of paper lanterns\n",
        "drift slowly, casting kaleidoscopic shadows. Infuse the scene with vibrant tones\n",
        "of emerald, sapphire, and iridescent gold to evoke a mood of mysticism, power,\n",
        "and awe.\n",
        "\"\"\"\n",
        "\n",
        "# pipe = FluxPipeline.from_pretrained(\n",
        "#     \"black-forest-labs/FLUX.1-schnell\",\n",
        "#     torch_dtype=torch.float16  # Use float16 to reduce memory usage\n",
        "\n",
        "# Use CPU Instead of GPU (Slower but Works)\n",
        "pipe = FluxPipeline.from_pretrained(\n",
        "    \"black-forest-labs/FLUX.1-schnell\"\n",
        ").to(\"cpu\")\n",
        "\n",
        "\n",
        "# Generate the image using the GPU\n",
        "image = pipe(\n",
        "    prompt,\n",
        "    guidance_scale=0.0,               # No classifier-free guidance (use 0.0 for pure sampling)\n",
        "    num_inference_steps=4,            # Number of denoising steps—4 is very low (faster, lower quality)\n",
        "    max_sequence_length=256,          # Maximum token length of the prompt\n",
        "    generator=generator               # Use the seeded random generator\n",
        ").images[0]\n",
        "\n",
        "# Save & 📺 the Image\n",
        "image.save(\"surreal.png\")\n",
        "\n",
        "# Display the image inline\n",
        "display(image)\n"
      ]
    },
    {
      "cell_type": "code",
      "source": [],
      "metadata": {
        "id": "fniy0Qmsyz7M"
      },
      "execution_count": null,
      "outputs": []
    },
    {
      "cell_type": "code",
      "source": [],
      "metadata": {
        "id": "oov-kQeqy0RE"
      },
      "execution_count": null,
      "outputs": []
    },
    {
      "cell_type": "code",
      "source": [],
      "metadata": {
        "id": "GIy8ocEHwAuL"
      },
      "execution_count": null,
      "outputs": []
    },
    {
      "cell_type": "code",
      "source": [],
      "metadata": {
        "id": "cw2VujYbwBDE"
      },
      "execution_count": null,
      "outputs": []
    },
    {
      "cell_type": "code",
      "source": [],
      "metadata": {
        "id": "ZQcG68UouS-9"
      },
      "execution_count": null,
      "outputs": []
    }
  ]
}