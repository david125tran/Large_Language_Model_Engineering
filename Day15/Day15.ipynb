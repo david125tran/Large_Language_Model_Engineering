{
  "nbformat": 4,
  "nbformat_minor": 0,
  "metadata": {
    "colab": {
      "provenance": [],
      "gpuType": "T4"
    },
    "kernelspec": {
      "name": "python3",
      "display_name": "Python 3"
    },
    "language_info": {
      "name": "python"
    },
    "accelerator": "GPU"
  },
  "cells": [
    {
      "cell_type": "markdown",
      "source": [
        "# Create meeting minutes from an Audio file\n",
        "\n",
        "I downloaded some Denver City Council meeting minutes and selected a portion of the meeting for us to transcribe. You can download it here:  \n",
        "https://drive.google.com/file/d/1N_kpSojRR5RYzupz6nqM8hMSoEF_R7pU/view?usp=sharing\n",
        "\n",
        "\n",
        "\n"
      ],
      "metadata": {
        "id": "It89APiAtTUF"
      }
    },
    {
      "cell_type": "markdown",
      "source": [
        "## Again - please note: 2 important pro-tips for using Colab:\n",
        "\n",
        "**Pro-tip 1:**\n",
        "\n",
        "The top of every colab has some pip installs. You may receive errors from pip when you run this, such as:\n",
        "\n",
        "> gcsfs 2025.3.2 requires fsspec==2025.3.2, but you have fsspec 2025.3.0 which is incompatible.\n",
        "\n",
        "These pip compatibility errors can be safely ignored; and while it's tempting to try to fix them by changing version numbers, that will actually introduce real problems!\n",
        "\n",
        "**Pro-tip 2:**\n",
        "\n",
        "In the middle of running a Colab, you might get an error like this:\n",
        "\n",
        "> Runtime error: CUDA is required but not available for bitsandbytes. Please consider installing [...]\n",
        "\n",
        "This is a super-misleading error message! Please don't try changing versions of packages...\n",
        "\n",
        "This actually happens because Google has switched out your Colab runtime, perhaps because Google Colab was too busy. The solution is:\n",
        "\n",
        "1. Kernel menu >> Disconnect and delete runtime\n",
        "2. Reload the colab from fresh and Edit menu >> Clear All Outputs\n",
        "3. Connect to a new T4 using the button at the top right\n",
        "4. Select \"View resources\" from the menu on the top right to confirm you have a GPU\n",
        "5. Rerun the cells in the colab, from the top down, starting with the pip installs\n",
        "\n",
        "And all should work great - otherwise, ask me!"
      ],
      "metadata": {
        "id": "sJPSCwPX3MOV"
      }
    },
    {
      "cell_type": "code",
      "source": [
        "# ------------------------------------ Packages ----------------------------------\n",
        "!pip install -q requests torch bitsandbytes transformers sentencepiece accelerate openai httpx==0.27.2"
      ],
      "metadata": {
        "id": "f2vvgnFpHpID"
      },
      "execution_count": null,
      "outputs": []
    },
    {
      "cell_type": "code",
      "execution_count": null,
      "metadata": {
        "id": "FW8nl3XRFrz0"
      },
      "outputs": [],
      "source": [
        "# ------------------------------------ Imports ----------------------------------\n",
        "\n",
        "import os\n",
        "import requests\n",
        "from IPython.display import Markdown, display, update_display\n",
        "from openai import OpenAI\n",
        "from google.colab import drive\n",
        "from huggingface_hub import login\n",
        "from google.colab import userdata\n",
        "from transformers import AutoTokenizer, AutoModelForCausalLM, TextStreamer, BitsAndBytesConfig\n",
        "import torch"
      ]
    },
    {
      "cell_type": "code",
      "source": [
        "# ------------------------------------ Constants / Variables ----------------------------------\n",
        "# Define the audio model to be used for transcription or speech-to-text tasks\n",
        "AUDIO_MODEL = \"whisper-1\"\n",
        "\n",
        "# Define the model for handling large language model (LLM) tasks\n",
        "LLAMA = \"meta-llama/Meta-Llama-3.1-8B-Instruct\"\n"
      ],
      "metadata": {
        "id": "q3D1_T0uG_Qh"
      },
      "execution_count": null,
      "outputs": []
    },
    {
      "cell_type": "code",
      "source": [
        "# ------------------------------------ Connect Colab Notebook to Google Drive ----------------------------------\n",
        "drive.mount(\"/content/drive\", force_remount=True)\n",
        "# The 'llms' is case sensitive.  For the varibale to find the '.mp3', place it inside of a folder called, 'llms'\n",
        "audio_filename = \"/content/drive/MyDrive/llms/denver_extract.mp3\""
      ],
      "metadata": {
        "id": "Es9GkQ0FGCMt"
      },
      "execution_count": null,
      "outputs": []
    },
    {
      "cell_type": "markdown",
      "source": [
        "# Download denver_extract.mp3\n",
        "\n",
        "You can either use the same file as me, the extract from Denver city council minutes, or you can try your own..\n",
        "\n",
        "If you want to use the same as me, then please download my extract here, and put this on your Google Drive:  \n",
        "https://drive.google.com/file/d/1N_kpSojRR5RYzupz6nqM8hMSoEF_R7pU/view?usp=sharing\n"
      ],
      "metadata": {
        "id": "HTl3mcjyzIEE"
      }
    },
    {
      "cell_type": "code",
      "source": [
        "# ------------------------------------ Configure Hugging Face Token ----------------------------------\n",
        "hf_token = userdata.get('HF_TOKEN')\n",
        "login(hf_token, add_to_git_credential=True)"
      ],
      "metadata": {
        "id": "xYW8kQYtF-3L"
      },
      "execution_count": null,
      "outputs": []
    },
    {
      "cell_type": "code",
      "source": [
        "# ------------------------------------ Configure AI Platform API Keys ----------------------------------\n",
        "openai_api_key = userdata.get('OPENAI_API_KEY')\n",
        "openai = OpenAI(api_key=openai_api_key)"
      ],
      "metadata": {
        "id": "qP6OB2OeGC2C"
      },
      "execution_count": null,
      "outputs": []
    },
    {
      "cell_type": "markdown",
      "source": [
        "# OpenAI Whisper-1 Model\n",
        "\n",
        "**Whisper-1** is an automatic speech recognition (ASR) model developed by OpenAI, designed to transcribe spoken language into text. It supports multiple languages and excels in handling diverse accents, noisy environments, and various speech patterns. Whisper-1 is trained on a vast and multilingual dataset, making it highly accurate for transcribing audio from various sources. It can also detect the language of the speech automatically and even perform basic translations. OpenAI has made Whisper-1 open-source, allowing developers to integrate it into their applications. It's ideal for use cases such as transcription services, virtual assistants, accessibility, and multilingual support. Despite its strengths, it may face challenges with domain-specific jargon and real-time transcription.\n"
      ],
      "metadata": {
        "id": "GB52wkl2K9eu"
      }
    },
    {
      "cell_type": "code",
      "source": [
        "# ------------------------------------ Convert Audio to Text ----------------------------------\n",
        "# Use the Whisper OpenAI model to convert the Audio to Text\n",
        "audio_file = open(audio_filename, \"rb\")\n",
        "transcription = openai.audio.transcriptions.create(model=AUDIO_MODEL, file=audio_file, response_format=\"text\")\n",
        "print(transcription)"
      ],
      "metadata": {
        "id": "GMShdVGlGGr4"
      },
      "execution_count": null,
      "outputs": []
    },
    {
      "cell_type": "code",
      "source": [
        "\n",
        "# ------------------------------------ OpenAI Whisper-1 ----------------------------------\n",
        "system_message = \"You are an assistant that produces minutes of meetings from transcripts, with summary, key discussion points, takeaways and action items with owners, in markdown.\"\n",
        "user_prompt = f\"Below is an extract transcript of a Denver council meeting. Please write minutes in markdown, including a summary with attendees, location and date; discussion points; takeaways; and action items with owners.\\n{transcription}\"\n",
        "\n",
        "messages = [\n",
        "    {\"role\": \"system\", \"content\": system_message},\n",
        "    {\"role\": \"user\", \"content\": user_prompt}\n",
        "  ]\n"
      ],
      "metadata": {
        "id": "piEMmcSfMH-O"
      },
      "execution_count": null,
      "outputs": []
    },
    {
      "cell_type": "code",
      "source": [
        "# ------------------------------------ Quantization ----------------------------------\n",
        "# Quantization Config - this allows us to load the model into memory and use less memory.\n",
        "# We do this by using less precision (replacing 32-bit numbers into 8-bit numbers).  This\n",
        "# is known as quantization and only makes it slightly less precise.\n",
        "quant_config = BitsAndBytesConfig(\n",
        "    load_in_4bit=True,\n",
        "    bnb_4bit_use_double_quant=True,\n",
        "    bnb_4bit_compute_dtype=torch.bfloat16,\n",
        "    bnb_4bit_quant_type=\"nf4\"\n",
        ")"
      ],
      "metadata": {
        "id": "UcRKUgcxMew6"
      },
      "execution_count": null,
      "outputs": []
    },
    {
      "cell_type": "code",
      "source": [
        "# ------------------------------------ Tokenizer ----------------------------------\n",
        "# Load the tokenizer associated with the pretrained model.\n",
        "# LLAMA should be a string path (e.g., \"meta-llama/Meta-Llama-3.1-8B-Instruct\")\n",
        "# representing the model's location or identifier on Hugging Face's model hub.\n",
        "tokenizer = AutoTokenizer.from_pretrained(LLAMA)\n",
        "\n",
        "# Set the padding token to be the same as the end-of-sequence (EOS) token.\n",
        "# This step ensures consistency when dealing with sequences that require padding\n",
        "# (i.e., making all sequences the same length during batch processing).\n",
        "# Models that don't have a predefined padding token might cause errors during this process.\n",
        "tokenizer.pad_token = tokenizer.eos_token\n",
        "\n",
        "# Apply a chat-specific formatting template to the list of messages.\n",
        "# The 'messages' variable should be a list of dictionaries, where each dictionary\n",
        "# contains a \"role\" (e.g., \"user\" or \"assistant\") and the \"content\" of the message.\n",
        "# This method formats the messages according to the model's expectations (especially for chat-tuned models).\n",
        "# The return_tensors=\"pt\" argument ensures that the input is returned as PyTorch tensors,\n",
        "# which are needed for model processing. The .to(\"cuda\") moves the data to GPU for faster processing.\n",
        "inputs = tokenizer.apply_chat_template(messages, return_tensors=\"pt\").to(\"cuda\")\n",
        "\n",
        "# Initialize a TextStreamer to handle the streaming of output text, making it suitable for generating\n",
        "# text token-by-token, which is useful for certain applications like chatbot interactions or continuous output.\n",
        "streamer = TextStreamer(tokenizer)\n",
        "\n",
        "# ------------------------------------ The Model ----------------------------------\n",
        "# Load a pretrained LLaMA model for text generation. This model is capable of generating text\n",
        "# based on causal language modeling (i.e., predicting the next token in a sequence given the previous ones).\n",
        "# The LLAMA path specifies the model to use, e.g., \"meta-llama/Meta-Llama-3.1-8B-Instruct\".\n",
        "#\n",
        "# The model is loaded with memory-efficient 4-bit quantization, reducing the model size and improving inference speed\n",
        "# at the cost of some precision. This is useful when working with larger models or hardware with memory constraints.\n",
        "# The device_map=\"auto\" argument automatically selects which device(s) (CPU/GPU) to use for model inference.\n",
        "# If multiple GPUs are available, the model is distributed across them.\n",
        "model = AutoModelForCausalLM.from_pretrained(LLAMA, device_map=\"auto\", quantization_config=quant_config)\n",
        "\n",
        "# Generate outputs from the model. The 'inputs' are the tokenized messages, and\n",
        "# max_new_tokens specifies the maximum number of tokens to generate in the response.\n",
        "# The streamer ensures that the model's output is streamed back in a way that is easy to handle token-by-token.\n",
        "# The outputs will be generated on the GPU if available, speeding up the process.\n",
        "outputs = model.generate(inputs, max_new_tokens=2000, streamer=streamer)\n"
      ],
      "metadata": {
        "id": "6CujZRAgMimy"
      },
      "execution_count": null,
      "outputs": []
    },
    {
      "cell_type": "markdown",
      "source": [
        "**Output Reformatted in Markdown:**\n",
        "# Minutes of the Denver City Council Meeting\n",
        "**Date:** October 9th, 2017  \n",
        "**Location:** Denver City Council Chambers  \n",
        "\n",
        "## Attendees:\n",
        "- Councilman Lopez  \n",
        "- Councilwoman Espinosa  \n",
        "- Councilman Flynn  \n",
        "- Councilwoman Gilmour  \n",
        "- Councilman Cashman  \n",
        "- Councilwoman Kenneche  \n",
        "- Councilman Lopez  \n",
        "- Councilwoman New  \n",
        "- Councilman Ortega  \n",
        "- Councilwoman Sussman  \n",
        "- Council President  \n",
        "\n",
        "## Summary:\n",
        "The Denver City Council meeting was held on October 9th, 2017, to discuss and adopt a proclamation for Indigenous Peoples Day. Councilman Lopez presented the proclamation, emphasizing the cultural and foundational contributions of Indigenous people to the city's history, present, and future.\n",
        "\n",
        "## Key Discussion Points:\n",
        "- The proclamation celebrated the confluence of two rivers, which holds significant meaning for the city and Indigenous culture.\n",
        "- Councilman Lopez stressed the importance of inclusivity and respect for all cultures, particularly in divisive times.\n",
        "- Councilwoman Ortega shared her experience with the creation of the Commission on Indian Affairs and the preservation of Native American culture.\n",
        "- Councilwoman Kenneche emphasized the importance of public lands and the role of Indigenous communities in defending them.\n",
        "\n",
        "## Takeaways:\n",
        "- The proclamation was adopted by the Denver City Council, officially recognizing Indigenous Peoples Day.\n",
        "- The city celebrated its second annual Indigenous Peoples Day, honoring Indigenous contributions to the city's past, present, and future.\n",
        "- A focus on inclusivity and respect for all cultures was emphasized during the meeting.\n",
        "\n",
        "## Action Items with Owners:\n",
        "- **Councilman Lopez**: Lead the presentation of the proclamation and discussion of Indigenous Peoples Day.\n",
        "- **Councilwoman Ortega**: Co-sponsor the proclamation and share her insights on the creation of the Commission on Indian Affairs.\n",
        "- **Councilwoman Kenneche**: Highlight the importance of protecting public lands and the role of Indigenous communities in environmental preservation.\n",
        "- **Council President**: Ensure the proclamation is officially adopted and implemented by the city.\n",
        "\n",
        "## Next Steps:\n",
        "- The proclamation will be implemented by the city, acknowledging Indigenous Peoples Day and its importance.\n",
        "- The city will continue to honor and promote the contributions of Indigenous people.\n",
        "- Efforts will continue to address the challenges faced by Native American communities, including issues of poverty, access to services, and housing.\n"
      ],
      "metadata": {
        "id": "NxX7DYPVP1I-"
      }
    },
    {
      "cell_type": "code",
      "source": [
        "# ------------------------------------ Convert Token IDs to Text ----------------------------------\n",
        "# Decode sequence of token IDs back into human-readable text\n",
        "response = tokenizer.decode(outputs[0])"
      ],
      "metadata": {
        "id": "102tdU_3Peam"
      },
      "execution_count": null,
      "outputs": []
    },
    {
      "cell_type": "code",
      "source": [
        "# ------------------------------------ Convert Text to Markdown ----------------------------------\n",
        "display(Markdown(response))"
      ],
      "metadata": {
        "id": "KlomN6CwMdoN"
      },
      "execution_count": null,
      "outputs": []
    },
    {
      "cell_type": "markdown",
      "source": [
        "**Output**  \n",
        "<|begin_of_text|><|start_header_id|>system<|end_header_id|>\n",
        "\n",
        "Cutting Knowledge Date: December 2023 Today Date: 26 Jul 2024\n",
        "\n",
        "You are an assistant that produces minutes of meetings from transcripts, with summary, key discussion points, takeaways and action items with owners, in markdown.<|eot_id|><|start_header_id|>user<|end_header_id|>\n",
        "\n",
        "Below is an extract transcript of a Denver council meeting. Please write minutes in markdown, including a summary with attendees, location and date; discussion points; takeaways; and action items with owners. and kind of the confluence of this whole idea of the confluence week, the merging of two rivers and as we've kind of seen recently in politics and in the world, there's a lot of situations where water is very important right now and it's a very big issue. So that is the reason that the back of the logo is considered water. So let me see the creation of the logo here. So that basically kind of sums up the reason behind the logo and all the meanings behind the symbolism and you'll hear a little bit more about our confluence week is basically highlighting all of these indigenous events and things that are happening around Denver so that we can kind of bring more people together and kind of share this whole idea of Indigenous People's Day. So thank you. Thank you so much and thanks for your leadership. All right. Welcome to the Denver City Council meeting of Monday, October 9th. Please rise with the Pledge of Allegiance by Councilman Lopez. I pledge allegiance to the flag of the United States of America, and to the republic for which it stands, one nation, under God, indivisible, with liberty and justice for all. All right. Thank you, Councilman Lopez. Madam Secretary, roll call. Clerk. Here. Espinosa. Here. Flynn. Here. Gilmour. Here. Here. Cashman. Here. Kenneche. Here. Lopez. Here. New. Here. Ortega. Here. Sussman. Here. Mr. President. Here. 11 present. 11 members present. We do have a quorum. Approval of the minutes. Seeing none. Minutes of October 2nd stand approved. Council announcements. Are there any announcements by members of Council? Councilman Clark. Thank you, Mr. President. I just wanted to invite everyone down to the first ever Halloween parade on Broadway in Lucky District 7. It will happen on Saturday, October 21st at 6 o'clock p.m. It will move along Broadway from 3rd to Alameda. It's going to be a fun, family-friendly event. Everyone's invited to come down, wear a costume. There will be candy for the kids and there are tiki zombies and 29 hearses and all kinds of fun and funky stuff on the fun and funky part of Broadway. So please join us October 21st at 6 o'clock for the Broadway Halloween parade. Thank you, Mr. President. All right. Thank you, Councilman Clark. I will be there. All right. Presentations. Madam Secretary, do we have any presentations? None, Mr. President. Communications. Do we have any communications? None, Mr. President. We do have one proclamation this evening. Proclamation 1127, an observance of the annual Indigenous Peoples Day in the City and County of Denver. Councilman Lopez, will you please read it? Thank you, Mr. President, with pride. Proclamation number 17, well, let me just say this differently. Proclamation number 1127, series of 2017, an observance of the second annual Indigenous Peoples Day in the City and County of Denver. Whereas the Council of the City and County of Denver recognizes that the Indigenous Peoples have lived and flourished on the lands known as the Americas since time immemorial and that Denver and the surrounding communities are built upon the ancestral homelands of numerous Indigenous tribes, which include the Southern Ute, the Ute Mountain, Ute tribes of Colorado. And whereas the tribal homelands and seasonal encampments of the Arapaho and Cheyenne people along the banks of the Cherry Creek and South Platte River confluence gave bearing to the future settlements that would become the birthplace of the Mile High City. And whereas Colorado encompasses the ancestral homelands of 48 tribes and the City and County of Denver and surrounding communities are home to the descendants of approximately 100 tribal nations. And whereas on October 3rd, 2016, the City and County of Denver unanimously passed Council Bill 801, series of 2016, officially designating the second Monday of October of each year as Indigenous Peoples Day in Denver, Colorado. And whereas the Council of the City and County of Denver continues to recognize and value the vast contributions made to the community through Indigenous Peoples' knowledge, science, philosophy, arts, and culture. And through these contributions, the City of Denver has developed and thrived. Whereas the Indigenous community, especially youth, have made great efforts this year to draw attention to the contributions of Indigenous people, including Confluence Week, drawing record attendance to a National Indigenous Youth Leadership Conference, leading conversations on inclusion with their peers, and supporting increased Indigenous youth participation in science and engineering. Now, therefore, be it proclaimed by the Council of the City and County of Denver, Section 1, that the Council of the City and County of Denver celebrates and honors the cultural and foundational contributions of Indigenous people to our history, our past, our present, and future, and continues to promote the education of the Denver community about these historical and contemporary contributions of Indigenous people. Section 2, that the City and County of Denver, Colorado, does hereby observe October 9th, 2017, as Indigenous Peoples Day. Section 3, that the Clerk of the City and County of Denver shall attest and affix the seal of the City and County of Denver to this proclamation, and that a copy be transmitted to the Denver American Indian Commission, the City and County of Denver School District No. 1, and the Colorado Commission on Indian Affairs. Thank you, Councilman Lopez. Your motion to adopt. Mr. President, I move that Proclamation No. 1127, Series of 2017, be adopted. All right. It has been moved and seconded. It comes from the members of Council. Councilman Lopez. Thank you, Mr. President. It gives me a lot of pleasure and pride to read this proclamation officially for the third time, but as Indigenous Peoples Day in Denver, officially for the second time. It's always awesome to be able to see not just this proclamation come by my desk, but to see so many different people from our community in our Council Chambers. It was a very beautiful piece of artwork that you presented to us earlier, and it is exactly the spirit that we drafted this proclamation and this actual, the ordinance that created Indigenous Peoples Day when we sat down and wrote it, and as a community, we couldn't think of anything else to begin except for the confluence of the two rivers, and those confluence of the two rivers created such a great city, and we live in such an amazing city, and we're all proud of it, and sometimes we, and a lot of people from all over the country or all over the world are proud of it, and sometimes a little too proud of it is telling them to go back home, but I'm kidding when I say that, but the really nice thing about this is that we are celebrating Indigenous Peoples Day out of pride for who we are, who we are as a city, and the contributions of Indigenous people to the city, not out of spite, not out of a replacement of one culture over the other, or out of contempt or disrespect. You know, I think of a quote that Cesar Chavez made very popular, and it stuck with me for a very long time, and any time I have the opportunity to speak in front of children, and especially children in our community that, you know, they often second guess themselves on where they're coming from, who they are, and I always say that, you know, it's very important to be proud of who you're from, and the quote that I use from Cesar Chavez is, you know, pride in one's own cultures does not require contempt or disrespect of another, right? And that's very important. It's very important for us to recognize that, no matter who we are, where we come from in this society, that your pride in your own culture doesn't require, should not require the contempt or disrespect of another. And man, what a year to be, for that to just sit on our shoulders for a while, for us to think about, right? And so, I wanted to, just to thank you all, to thank the commission, there's going to be a couple individuals that are going to come speak, thank you for your art, your lovely artwork, for us to see what's in your heart and what now has become, probably is going to be a very important symbol for the community. And also, just for the work, the daily work, every single day, we still have a lot of brothers and sisters whose ancestors once lived in these lands freely, now stand on street corners, right? In poverty, without access to services, right? Without access to sobriety or even housing or jobs. And what a, what a, what a cruel way to pay back a culture that has paved the way for the city to be built upon its shores, right? So, we have a lot of work to do. And these kind of proclamations and this day is not a day off, it's a day on in Denver, right? And addressing those critical issues. So, I know that my colleagues are very supportive, I'm going to ask you to support this proclamation, as I know you always have done in the past, I'm very proud of today. Oh, and we made Time Magazine and Newsweek once again, today, as being a leader in terms of the cities that are celebrating Indigenous Peoples Day. I wanted to make a point out of that. Thank you, Councilman Lopez, and thank you for sponsoring this. Councilman Ortega? Mr. President, I want to ask that my name be added. I don't think I could add much more to what Councilman Lopez has shared with us. I want to thank him for bringing this forward and really just appreciate all the contributions that our Native American community has contributed to this great city and great state. I worked in the Lieutenant Governor's Office when the Commission on Indian Affairs was created, and had the benefit of being able to go down to the Four Corners for a peace treaty signing ceremony between the Utes and the Comanches that had been sort of at odds with each other for about a hundred years, and just being able to participate in that powwow was pretty awesome. And for those of you who continue to participate in the annual powwow, it's such a great opportunity for everybody else to enjoy so many of the contributions of the culture. I mean, to see that the dance continues to be carried on as well as the Native language from generation to generation is just so incredible because in so many cultures, you know, people have come here and assimilated to the, you know, the norms here and they lose their language and lose a lot of the culture. And in the Native community, that hasn't happened. That, you know, commitment to just passing that on from generation to generation is so important. And so I'm happy to be a co-sponsor of this tonight. Thank you. All right. Thank you, Councilwoman Ortega. Councilwoman Kaneech. Thank you very much, and I also want to thank my colleague for bringing this forward. And I just wanted to say a word to the artist about how beautiful and moving I thought this logo was and your description of it. And I think one of the things that is clear is, you know, the words sometimes don't convey the power of imagery or music or the other pieces that make up culture, and so I think the art is so important. And when you talked about water, I was also thinking about land, and I guess I just wanted to say thank you. Many of the Native American peoples of Colorado have been at the forefront, or actually nationally, of defending some of the public lands that have been protected over the last few years that are under attack right now. And there are places that the communities have fought to protect but that everyone gets to enjoy. And so I just think that it's an example of where cultural preservation intersects with environmental protection, with, you know, recreation and all of the other ways that public lands are so important. And so I think I just wanted to say thank you for that because I think we have some very sacred places in our country that are at risk right now. And so as we celebrate, I appreciate that there's still a piece of resistance in here, and I think that I just want to mention a solidarity and mention a feeling of solidarity with that resistance. So thank you, and happy Confluence Week. Thank you, Councilwoman Knitsch. And seeing no other comments, I'll just say a couple. And in a time of such divisive ugliness and just despicable behavior from our leadership, the reason I'm so supportive of Indigenous Peoples' Day is because it means inclusivity. It means respecting all, respecting those who have been silenced on purpose for a long time and whose history has not been told. And so we celebrate inclusivity in the face of such evil times, honestly.<|eot_id|><|start_header_id|>assistant<|end_header_id|>\n",
        "\n",
        "Minutes of the Denver City Council Meeting Date: October 9th, 2017 Location: Denver City Council Chambers Attendees:\n",
        "\n",
        "    Councilman Lopez\n",
        "    Councilwoman Espinosa\n",
        "    Councilman Flynn\n",
        "    Councilwoman Gilmour\n",
        "    Councilman Cashman\n",
        "    Councilwoman Kenneche\n",
        "    Councilman Lopez\n",
        "    Councilwoman New\n",
        "    Councilman Ortega\n",
        "    Councilwoman Sussman\n",
        "    Council President\n",
        "\n",
        "Summary: The Denver City Council meeting was held on October 9th, 2017, to discuss and adopt a proclamation for Indigenous Peoples Day. Councilman Lopez presented the proclamation, highlighting the importance of recognizing and celebrating the cultural and foundational contributions of Indigenous people to the city's history, present, and future.\n",
        "\n",
        "Key Discussion Points:\n",
        "\n",
        "    The proclamation recognized the significance of the confluence of two rivers in the creation of the city and the importance of Indigenous Peoples Day.\n",
        "    Councilman Lopez emphasized the need to celebrate inclusivity and respect for all cultures, especially in times of divisiveness and ugliness.\n",
        "    Councilwoman Ortega shared her experience with the creation of the Commission on Indian Affairs and the importance of preserving Native American culture.\n",
        "    Councilwoman Kenneche highlighted the significance of public lands and the importance of defending them for future generations.\n",
        "\n",
        "Takeaways:\n",
        "\n",
        "    The proclamation was adopted by the Denver City Council, recognizing the importance of Indigenous Peoples Day.\n",
        "    The city celebrated its second annual Indigenous Peoples Day, highlighting the contributions of Indigenous people to the city's history, present, and future.\n",
        "    The proclamation emphasized the need for inclusivity and respect for all cultures, especially in times of divisiveness.\n",
        "\n",
        "Action Items with Owners:\n",
        "\n",
        "    Councilman Lopez to present the proclamation and lead the discussion on Indigenous Peoples Day.\n",
        "    Councilwoman Ortega to co-sponsor the proclamation and share her experience with the creation of the Commission on Indian Affairs.\n",
        "    Councilwoman Kenneche to highlight the significance of public lands and the importance of defending them for future generations.\n",
        "    Council President to ensure the proclamation is adopted and implemented by the city.\n",
        "\n",
        "Next Steps:\n",
        "\n",
        "    The proclamation will be implemented by the city, recognizing the importance of Indigenous Peoples Day.\n",
        "    The city will continue to celebrate and promote the cultural and foundational contributions of Indigenous people to the city's history, present, and future.\n",
        "    The city will work to address the critical issues faced by the Native American community, including poverty, lack of access to services, and housing.<|eot_id|>\n",
        "\n",
        "\n"
      ],
      "metadata": {
        "id": "HiHY7Y9mQn50"
      }
    }
  ]
}